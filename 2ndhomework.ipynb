{
 "cells": [
  {
   "cell_type": "code",
   "execution_count": null,
   "metadata": {},
   "outputs": [],
   "source": [
    "import numpy as np\n",
    "import matplotlib.pyplot as plt"
   ]
  },
  {
   "cell_type": "markdown",
   "metadata": {},
   "source": [
    "# Version"
   ]
  },
  {
   "cell_type": "code",
   "execution_count": null,
   "metadata": {},
   "outputs": [],
   "source": [
    "import pkg_resources\n",
    "import types\n",
    "import sys\n",
    "def get_imports():\n",
    "    for name, val in globals().items():\n",
    "        if isinstance(val, types.ModuleType):\n",
    "            # Split ensures you get root package, \n",
    "            # not just imported function\n",
    "            name = val.__name__.split(\".\")[0]\n",
    "\n",
    "        elif isinstance(val, type):\n",
    "            name = val.__module__.split(\".\")[0]\n",
    "\n",
    "        # Some packages are weird and have different\n",
    "        # imported names vs. system/pip names. Unfortunately,\n",
    "        # there is no systematic way to get pip names from\n",
    "        # a package's imported name. You'll have to add\n",
    "        # exceptions to this list manually!\n",
    "        poorly_named_packages = {\n",
    "            \"PIL\": \"Pillow\",\n",
    "            \"sklearn\": \"scikit-learn\"\n",
    "        }\n",
    "        if name in poorly_named_packages.keys():\n",
    "            name = poorly_named_packages[name]\n",
    "\n",
    "        yield name\n",
    "imports = list(set(get_imports()))\n",
    "\n",
    "# The only way I found to get the version of the root package\n",
    "# from only the name of the package is to cross-check the names \n",
    "# of installed packages vs. imported packages\n",
    "requirements = []\n",
    "for m in pkg_resources.working_set:\n",
    "    if m.project_name in imports and m.project_name!=\"pip\":\n",
    "        requirements.append((m.project_name, m.version))\n",
    "\n",
    "for r in requirements:\n",
    "    print(\"{}=={}\".format(*r))\n",
    "print(f\"Python == {sys.version}\")"
   ]
  },
  {
   "cell_type": "markdown",
   "metadata": {},
   "source": [
    "# Implementation"
   ]
  },
  {
   "cell_type": "markdown",
   "metadata": {},
   "source": [
    "## Newton Method"
   ]
  },
  {
   "cell_type": "code",
   "execution_count": null,
   "metadata": {},
   "outputs": [],
   "source": [
    "def newton(f, Df, x0, epsilon, max_iter):\n",
    "    '''Approximate solution of f(x)=0 by Newton's method.\n",
    "    \n",
    "    Parameters\n",
    "    -----------\n",
    "    f : function\n",
    "        Function for which we are searching for a solutoin f(x)=0.\n",
    "    Df : function\n",
    "        Derivative of f(x).\n",
    "    x0 : number\n",
    "        Initial guess for a solution f(x)=0.\n",
    "    epsilon : number \n",
    "        Stopping criteria is abs(f(x)) < epsilon. \n",
    "    max_iter : integer\n",
    "        Maximum number of iterations of Newton's method.\n",
    "    h : stepsize\n",
    "    Returns\n",
    "    -------------\n",
    "    xn : number\n",
    "        Implement Newton's method: compute the linear approximation\n",
    "        of f(x) at xn and find x intercept by the formula\n",
    "            x = xn -f(xn)/Df(xn)\n",
    "        Continue until abs(f(xn)) < epsilon and return xn.\n",
    "        If Df(xn) == 0, return None. If the number of iterations\n",
    "        exceeds max_iter, then return None.\n",
    "    ---------\n",
    "    '''\n",
    "    \n",
    "    xn = x0\n",
    "    for n in range(0, max_iter):\n",
    "        fxn = f(xn)\n",
    "        if abs(fxn) < epsilon:\n",
    "            # print(\"Found solution after\", n, \"iterations.\")\n",
    "            return xn\n",
    "        Dfxn = Df(xn)\n",
    "        if Dfxn == 0:\n",
    "            # print(\"Zero derivative. No solution found.\")\n",
    "            return None\n",
    "        \n",
    "        xn -= fxn/Dfxn\n",
    "    # print(\"Exceed maximum iterations. No solution found.\")\n",
    "    return None"
   ]
  },
  {
   "cell_type": "markdown",
   "metadata": {},
   "source": [
    "## Euler Method"
   ]
  },
  {
   "cell_type": "code",
   "execution_count": null,
   "metadata": {},
   "outputs": [],
   "source": [
    "def euler_method(f, t0, tN, y0, h):\n",
    "    '''\n",
    "    f = numerical problem\n",
    "    g = exact solution\n",
    "    t0 = left\n",
    "    tN = right\n",
    "    y0 = initial condition\n",
    "    h = step size\n",
    "    '''\n",
    "    N = int((tN - t0)/h)\n",
    "    grid = np.linspace(t0, tN, N+1)\n",
    "    ygrid = np.zeros_like(grid)\n",
    "    ygrid[0] = y0\n",
    "    iter = np.arange(0, N+1)\n",
    "    for i in iter:\n",
    "        try:\n",
    "            slope = f(grid[i], ygrid[i])\n",
    "            ygrid[i+1] = ygrid[i] + slope * h\n",
    "        except:\n",
    "            break\n",
    "    return grid, ygrid\n"
   ]
  },
  {
   "cell_type": "markdown",
   "metadata": {},
   "source": [
    "## Backward Euler Method"
   ]
  },
  {
   "cell_type": "code",
   "execution_count": null,
   "metadata": {},
   "outputs": [],
   "source": [
    "def backward_euler(f, t0, tN, y0, h):\n",
    "    '''\n",
    "    f = numerical problem\n",
    "    g = exact solution\n",
    "    t0 = left\n",
    "    tN = right\n",
    "    y0 = initial condition\n",
    "    h = step size\n",
    "    '''\n",
    "    N = int((tN - t0)/h)\n",
    "    grid = np.linspace(t0, tN, N+1)\n",
    "    ygrid = np.zeros_like(grid)\n",
    "    ygrid[0] = y0\n",
    "    iter = np.arange(0, N+1)\n",
    "    for i in range(0, iter.size-1):\n",
    "        u = lambda x: x - 6*h*(x-x**2) - ygrid[i]\n",
    "        up = lambda x: 1 - 6*h*(1-2*x)\n",
    "        y_n1 = newton(u, up, ygrid[i]+1e3, 1e-9, 1000)\n",
    "        ygrid[i+1] = y_n1\n",
    "    \n",
    "    return grid, ygrid\n"
   ]
  },
  {
   "cell_type": "markdown",
   "metadata": {},
   "source": [
    "# Problem 1\n",
    "\n",
    "\\begin{cases}\n",
    "    y^{\\prime} = 6y - 6y^{2} &\\text{for} & 0\\leq t \\leq 20\\\\\n",
    "    y \\left(0\\right) = 1/2\n",
    "\\end{cases}\n",
    "$$\\text{Exact solution} \\, y\\left( t \\right) = \\frac{e^{6t}}{e^{6t}+1}$$"
   ]
  },
  {
   "cell_type": "code",
   "execution_count": null,
   "metadata": {},
   "outputs": [],
   "source": [
    "f = lambda t, y: 6*y - 6*y**2\n",
    "g = lambda t: np.exp(6*t)/(np.exp(6*t)+1)\n",
    "\n",
    "grid, eulergrid = euler_method(f, 0, 20, 0.5, 0.5)\n",
    "_, backgrid = backward_euler(f, 0, 20, 0.5, 0.5)\n",
    "exact = g(grid)"
   ]
  },
  {
   "cell_type": "code",
   "execution_count": null,
   "metadata": {},
   "outputs": [],
   "source": [
    "plt.figure(figsize=(5,5))\n",
    "plt.title(\"Compare\")\n",
    "plt.plot(grid, exact, label=\"Exact solution\", c=\"r\")\n",
    "plt.plot(grid, eulergrid, 'b-', label=\"Euler Approximation\", lw=3, alpha=0.5)\n",
    "plt.plot(grid, backgrid,'g--', label=\"Backward Euler Approximation\", lw=3, alpha=0.5)\n",
    "plt.legend()\n",
    "plt.show()\n",
    "\n",
    "\n",
    "\n",
    "\n"
   ]
  },
  {
   "cell_type": "code",
   "execution_count": null,
   "metadata": {},
   "outputs": [],
   "source": []
  },
  {
   "cell_type": "code",
   "execution_count": null,
   "metadata": {},
   "outputs": [],
   "source": []
  }
 ],
 "metadata": {
  "kernelspec": {
   "display_name": "Python 3.10.4 ('numerical_analysis')",
   "language": "python",
   "name": "python3"
  },
  "language_info": {
   "codemirror_mode": {
    "name": "ipython",
    "version": 3
   },
   "file_extension": ".py",
   "mimetype": "text/x-python",
   "name": "python",
   "nbconvert_exporter": "python",
   "pygments_lexer": "ipython3",
   "version": "3.10.4"
  },
  "orig_nbformat": 4,
  "vscode": {
   "interpreter": {
    "hash": "3d2e46490e26dbb538f5b6e4637eb0690ee61e5c85f7b1283c4b0bcf068dbcd1"
   }
  }
 },
 "nbformat": 4,
 "nbformat_minor": 2
}
