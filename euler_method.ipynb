{
 "cells": [
  {
   "cell_type": "code",
   "execution_count": null,
   "metadata": {},
   "outputs": [],
   "source": [
    "import numpy as np\n",
    "import matplotlib.pyplot as plt"
   ]
  },
  {
   "cell_type": "markdown",
   "metadata": {},
   "source": [
    "\\begin{align}\n",
    "y' = y^{2}\\\\\n",
    "y(0) = \\frac{1}{2}\n",
    "\\end{align}"
   ]
  },
  {
   "cell_type": "code",
   "execution_count": null,
   "metadata": {},
   "outputs": [],
   "source": [
    "def f(t, y):\n",
    "    return y - t**2 + 1"
   ]
  },
  {
   "cell_type": "code",
   "execution_count": null,
   "metadata": {},
   "outputs": [],
   "source": [
    "def euler_method(t0, tN, y0, N):\n",
    "    h = (tN - t0)/(N-1)\n",
    "    grid = np.linspace(t0, tN, N)\n",
    "    grid[0] = t0 ; grid[-1] = tN\n",
    "    ygrid = np.zeros_like(grid)\n",
    "    # ygrid = np.append(ygrid, np.array([0]))\n",
    "    ygrid[0] = y0\n",
    "    for i in range(N-1):\n",
    "        slope = f(grid[i], ygrid[i])\n",
    "        ygrid[i+1] = ygrid[i] + slope * h\n",
    "\n",
    "    return grid, ygrid\n"
   ]
  },
  {
   "cell_type": "code",
   "execution_count": null,
   "metadata": {},
   "outputs": [],
   "source": [
    "N = int(input(\"gird number\"))\n",
    "t0 = float(input(\"initial condition\"))\n",
    "tN = float(input(\"last point\"))\n",
    "y0 = float(input(\"initial y\"))\n",
    "\n",
    "x, y_euler = euler_method(t0, tN, y0, N)"
   ]
  },
  {
   "cell_type": "code",
   "execution_count": null,
   "metadata": {},
   "outputs": [],
   "source": [
    "plt.figure(figsize = (10, 10))\n",
    "# plt.plot(x, y, c='r', label = 'exact sol')\n",
    "plt.plot(x, y_euler, c='k', label='eulers method')\n",
    "plt.xlabel(\"domain\")\n",
    "plt.legend()\n",
    "plt.show()"
   ]
  },
  {
   "cell_type": "code",
   "execution_count": null,
   "metadata": {},
   "outputs": [],
   "source": [
    "print( y_euler[-1])"
   ]
  },
  {
   "cell_type": "code",
   "execution_count": null,
   "metadata": {},
   "outputs": [],
   "source": [
    "print(x[-1])"
   ]
  },
  {
   "cell_type": "code",
   "execution_count": null,
   "metadata": {},
   "outputs": [
    {
     "name": "stdout",
     "output_type": "stream",
     "text": [
      "[0.5        0.65       0.814      0.9914     1.18154    1.383694\n",
      " 1.5970634  1.82076974 2.05384671 2.29523139 2.54375452 2.79812998\n",
      " 3.05694297 3.31863727 3.581501   3.8436511  4.10301621 4.35731783\n",
      " 4.60404961 4.84045457 5.06350003]\n"
     ]
    }
   ],
   "source": [
    "print(y_euler)"
   ]
  },
  {
   "cell_type": "code",
   "execution_count": null,
   "metadata": {},
   "outputs": [],
   "source": []
  }
 ],
 "metadata": {
  "kernelspec": {
   "display_name": "Python 3.10.4 ('numerical_analysis': conda)",
   "language": "python",
   "name": "python3"
  },
  "language_info": {
   "codemirror_mode": {
    "name": "ipython",
    "version": 3
   },
   "file_extension": ".py",
   "mimetype": "text/x-python",
   "name": "python",
   "nbconvert_exporter": "python",
   "pygments_lexer": "ipython3",
   "version": "3.10.4"
  },
  "orig_nbformat": 4,
  "vscode": {
   "interpreter": {
    "hash": "75fd7f976fa69e4c205d458569130cd2ff06518179bef7c60db449b44916aede"
   }
  }
 },
 "nbformat": 4,
 "nbformat_minor": 2
}
